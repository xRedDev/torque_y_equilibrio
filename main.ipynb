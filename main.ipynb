{
 "cells": [
  {
   "cell_type": "markdown",
   "metadata": {},
   "source": [
    "# DISEÑO DE CÓDIGO: TORQUE Y EQUILIBRIO\n",
    "---------------------------------------\n",
    "> Este código proporciona una herramienta de automatización de procesos con el objetivo de determinar los parámetros que debe cumplir un sistema para permanecer o alcanzar el estado de \"Equilibrio Estático\", es decir; la suma de todas sus fuerzas y torques resulte en 0."
   ]
  },
  {
   "cell_type": "markdown",
   "metadata": {},
   "source": [
    "El primer paso, es diseñar las funciones con las que trabajará el programa base. Ya que el programa tiene el objetivo de ser parametrizado según los datos que se ingresen desde la consola/terminal, conviene tener una porción de código que se emplee para validar que las entradas del usuario son correctas y aptas para la determinación del cálculo, es decir; que no se permitan entradas ajenas a números, como los textos y carácteres especiales. Por lo tanto, esa resulta ser la función de `verificar_entrada()`."
   ]
  },
  {
   "cell_type": "code",
   "execution_count": 5,
   "metadata": {},
   "outputs": [],
   "source": [
    "def verificar_entrada(campo):\n",
    "    \"\"\"\n",
    "    Solicita un valor al usuario para el campo especificado, asegurándose de que sea un número válido.\n",
    "    Si el usuario deja el campo vacío, retorna None.\n",
    "    \"\"\"\n",
    "    # este bucle solo se rompe al entrar en un `return`\n",
    "    while True:\n",
    "        valor = input(f\"{campo}: \").strip() # .strip() devuelve una copia del objeto, pero sin los espacios en blanco\n",
    "        if not valor:  # si se pone el dato en vacío (en blanco), retorna None\n",
    "            return None\n",
    "        try:\n",
    "            return float(valor)\n",
    "        except ValueError:\n",
    "            print(\"Dato no válido. Solo debe ingresar datos numéticos\")"
   ]
  },
  {
   "cell_type": "markdown",
   "metadata": {},
   "source": [
    "# PRINCIPIO FÍSICO\n",
    "------------------\n",
    "> Ahora que se tiene una forma de validar las entradas del usuario, es momento de aplicar el principio físico que busca modelar este código: Equilibrio Estático.\n",
    "La forma base y directa viene dada por la siguiente expresión o igualdad: \n",
    "\n",
    "$$ m_1 \\cdot d_1 = m_2 \\cdot d_2 $$\n",
    "\n",
    "Donde $m_1$ y $m_2$ son las masas que se ubican a los lados del balancín (*derecha e izquierda*) y $d_1$, $d_2$ son las distancias de dichas masas respecto al punto de apoyo o de pívote. \n",
    "\n",
    "De lo anterior, se puede concluir que si se cuenta con un parámetro desconocido en la expresión, se puede calcular o determinar en función de los otros 3 datos conocidos, en concreto; se pueude diseñar un sistema de soluciones dependiendo de cuál parámetro se busca hallar, de la siguiente manera:\n"
   ]
  },
  {
   "cell_type": "markdown",
   "metadata": {},
   "source": [
    "\n",
    "- Se desconoce $m_1$:\n",
    "    $$ m_1 = \\frac{m_2 \\cdot d_2}{d_1} $$\n",
    "\n",
    "- Se desconoce $m_2$:\n",
    "    $$ m_2 = \\frac{m_1 \\cdot d_1}{d_2} $$\n",
    "\n",
    "- Se desconoce $d_1$:\n",
    "    $$ d_1 = \\frac{m_1 \\cdot d_2}{m_2} $$\n",
    "\n",
    "- Se desconoce $d_2$:\n",
    "    $$ d_2 = \\frac{m_1 \\cdot d_1}{m_2} $$\n",
    "\n",
    "Por lo tanto, es útil tener un proceso automatizado que identifique cual es el dato desconocido o faltante para que se iguale y se determine el Equilibrio del Sistema."
   ]
  },
  {
   "cell_type": "markdown",
   "metadata": {},
   "source": [
    "# FUNCIÓN PARA DETERMINAR EL EQUILIBRIO\n",
    "---------------------------------------\n",
    "> Con el principio físico desarrollado, nos resta diseñar una función que determine cual es el dato restante para equilibrar el sistema y automáticamente genere una solución en función de los demás datos.\n",
    "\n",
    "La función `determinar_equilibrio()` sigue el siguiente flujo lógico de ejecución:\n",
    "\n",
    "1. **Inicialización de parámetros**: Los parámetros de la función se establecen por defecto como `None`.\n",
    "2. **Validación**: Se verifica que solo haya un parámetro faltante (es decir, que solo un valor sea desconocido).\n",
    "3. **Identificación del dato desconocido**: La función determina cuál de los parámetros es el desconocido.\n",
    "4. **Cálculo de la solución**: En función de los valores conocidos, se resuelve el problema aplicando la fórmula del equilibrio estático para encontrar el valor que equilibra el sistema."
   ]
  },
  {
   "cell_type": "code",
   "execution_count": 6,
   "metadata": {},
   "outputs": [],
   "source": [
    "def determinar_equilibrio(\n",
    "        # INICIALIZACIÓN DE PARÁMETROS\n",
    "        m1: float = None, \n",
    "        m2: float = None, \n",
    "        d1: float = None, \n",
    "        d2: float = None,\n",
    "    ) -> str:\n",
    "    \"\"\"\n",
    "    Calcula el valor de la variable faltante en un sistema de equilibrio estático.\n",
    "    \n",
    "    El sistema está en equilibrio cuando el producto de la masa por la distancia de cada lado es igual:\n",
    "        m1 * d1 = m2 * d2.\n",
    "    \n",
    "    Se debe proporcionar tres de los cuatro parámetros (m1, m2, d1, d2).\n",
    "    El parámetro faltante se calculará con base en los demás.\n",
    "    \n",
    "    Args:\n",
    "        `m1` (float): Masa 1 en kilogramos.\n",
    "        `m2` (float): Masa 2 en kilogramos.\n",
    "        `d1` (float): Distancia de Masa 1 en metros.\n",
    "        `d2` (float): Distancia de Masa 2 en metros.\n",
    "    \n",
    "    Returns:\n",
    "        str: El valor de la variable calculada.\n",
    "    \n",
    "    Raises:\n",
    "        ValueError: Si se proporcionan más de una variable como desconocida o si faltan más de una.\n",
    "    \"\"\"\n",
    "    variables = [m1, m2, d1, d2]\n",
    "\n",
    "    # Validación\n",
    "    if variables.count(None) != 1:\n",
    "        raise ValueError(\"Debe dejar solo una variable como desconocida.\")\n",
    "\n",
    "\n",
    "    # Identificación del dato desconocido\n",
    "    if m1 is None:\n",
    "        m1 = (m2 * d2) / d1 # cálculo de la solución\n",
    "        return f\"Masa 1: {m1} kg\"\n",
    "    \n",
    "    # Identificación del dato desconocido\n",
    "    elif m2 is None:\n",
    "        m2 = (m1 * d1) / d2 # cálculo de la solución\n",
    "        return f\"Masa 2: {m2} kg\"\n",
    "    # Identificación del dato desconocido\n",
    "\n",
    "    elif d1 is None:\n",
    "        d1 = (m2 * d2) / m1 # cálculo de la solución\n",
    "        return f\"Distancia de Masa 1: {d1} m\"\n",
    "    # Identificación del dato desconocido\n",
    "\n",
    "    elif d2 is None:\n",
    "        d2 = (m1 * d1) / m2 # cálculo de la solución\n",
    "        return f\"Distancia de Masa 2: {d2} m\""
   ]
  },
  {
   "cell_type": "markdown",
   "metadata": {},
   "source": [
    "# ENTRADAS DE LOS DATOS\n",
    "-----------------------\n",
    "> Con la funcionaidad preparada, solo falta diseñar el resto del código para solicitar los datos desde la consola/terminal y hacer sus respectivas verificaciones con `verificar_entrada()`\n",
    "\n",
    "Se solicitan las entradas con la función encargada de la verificación de las mismas:\n"
   ]
  },
  {
   "cell_type": "code",
   "execution_count": null,
   "metadata": {},
   "outputs": [],
   "source": [
    "masa1 = verificar_entrada(\"Masa 1 (kg)\")"
   ]
  },
  {
   "cell_type": "code",
   "execution_count": null,
   "metadata": {},
   "outputs": [],
   "source": [
    "masa2 = verificar_entrada(\"Masa 2 (kg)\")"
   ]
  },
  {
   "cell_type": "code",
   "execution_count": 9,
   "metadata": {},
   "outputs": [],
   "source": [
    "distancia_masa1 = verificar_entrada(\"Distancia de Masa 1 al punto de apoyo (m)\")"
   ]
  },
  {
   "cell_type": "code",
   "execution_count": 10,
   "metadata": {},
   "outputs": [],
   "source": [
    "distancia_masa2 = verificar_entrada(\"Distancia de Masa 2 al punto de apoyo (m)\")"
   ]
  },
  {
   "cell_type": "markdown",
   "metadata": {},
   "source": [
    "Una vez se tiene las entradas, se le pasan como argumentos a la función `determinar_equilibrio()` para que retorne la solución que será impresa en la consola/terminal como punto final del código."
   ]
  },
  {
   "cell_type": "code",
   "execution_count": 11,
   "metadata": {},
   "outputs": [
    {
     "name": "stdout",
     "output_type": "stream",
     "text": [
      "Distancia de Masa 2: 0.24 m\n"
     ]
    }
   ],
   "source": [
    "try: # intentar, de lo contrario, capturar cualquier posible error\n",
    "    resultado = determinar_equilibrio(masa1, masa2, distancia_masa1, distancia_masa2)\n",
    "    print(resultado) # imprimir en la consola el resultado que equilibra el sistema\n",
    "    \n",
    "except ValueError as e: # capturar cualquier posible error\n",
    "    print(f\"Error: {e}\")"
   ]
  }
 ],
 "metadata": {
  "kernelspec": {
   "display_name": "Python 3",
   "language": "python",
   "name": "python3"
  },
  "language_info": {
   "codemirror_mode": {
    "name": "ipython",
    "version": 3
   },
   "file_extension": ".py",
   "mimetype": "text/x-python",
   "name": "python",
   "nbconvert_exporter": "python",
   "pygments_lexer": "ipython3",
   "version": "3.11.9"
  }
 },
 "nbformat": 4,
 "nbformat_minor": 2
}
